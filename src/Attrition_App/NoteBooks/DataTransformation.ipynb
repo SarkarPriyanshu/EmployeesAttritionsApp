{
 "cells": [
  {
   "cell_type": "code",
   "execution_count": 1,
   "metadata": {},
   "outputs": [],
   "source": [
    "import pandas as pd\n",
    "import numpy as np\n",
    "import os\n",
    "from pathlib import Path\n",
    "import matplotlib.pyplot as plt\n",
    "import seaborn as sns\n",
    "import statsmodels.api as sm\n",
    "import mlflow\n",
    "\n",
    "\n",
    "from scipy.stats import (\n",
    "                         shapiro,\n",
    "                         levene,\n",
    "                         mannwhitneyu,\n",
    "                         ttest_ind,\n",
    "                         chi2_contingency,\n",
    "                         fisher_exact)\n",
    "\n",
    "from sklearn.preprocessing import (\n",
    "                            MinMaxScaler,\n",
    "                            OneHotEncoder,\n",
    "                            LabelEncoder\n",
    "                            )\n",
    "\n",
    "from sklearn.compose import ColumnTransformer\n",
    "from sklearn.model_selection import train_test_split\n",
    "from statsmodels.discrete.discrete_model import Logit\n",
    "from statsmodels.stats.outliers_influence import variance_inflation_factor\n",
    "\n",
    "pd.set_option('display.max_columns', None)"
   ]
  },
  {
   "cell_type": "code",
   "execution_count": 2,
   "metadata": {},
   "outputs": [],
   "source": [
    "root = Path('Attrition_Application/artifacts/data_ingestion_artifact/Attrition.csv')\n",
    "dataset_path = Path.joinpath(Path('/').resolve(),root)"
   ]
  },
  {
   "cell_type": "code",
   "execution_count": 3,
   "metadata": {},
   "outputs": [],
   "source": [
    "df = pd.read_csv(dataset_path)"
   ]
  },
  {
   "cell_type": "code",
   "execution_count": 13,
   "metadata": {},
   "outputs": [],
   "source": [
    "significant_features = ['JobInvolvement',\n",
    " 'JobLevel',\n",
    " 'StockOptionLevel',\n",
    " 'JobRole',\n",
    " 'MaritalStatus',\n",
    " 'OverTime',\n",
    " 'DistanceFromHome',\n",
    " 'HourlyRate',\n",
    " 'MonthlyRate',\n",
    " 'NumCompaniesWorked',\n",
    " 'PercentSalaryHike',\n",
    " 'TrainingTimesLastYear',\n",
    " 'YearsSinceLastPromotion',\n",
    " 'Attrition']"
   ]
  },
  {
   "cell_type": "code",
   "execution_count": 35,
   "metadata": {},
   "outputs": [],
   "source": [
    "sacle_features= [\n",
    "                 'HourlyRate',\n",
    "                 'MonthlyRate',\n",
    "                 'PercentSalaryHike',\n",
    "                 'TrainingTimesLastYear',\n",
    "                 'YearsSinceLastPromotion',\n",
    "                 'JobInvolvement',\n",
    "                 'JobLevel',\n",
    "                 'StockOptionLevel',\n",
    "                 'DistanceFromHome',\n",
    "                 'NumCompaniesWorked',\n",
    "                 ]\n",
    "ohe_features = ['OverTime',\n",
    "                'MaritalStatus',\n",
    "                'JobRole'\n",
    "                ]\n",
    "label_encode_features = ['Attrition']"
   ]
  },
  {
   "cell_type": "code",
   "execution_count": 15,
   "metadata": {},
   "outputs": [],
   "source": [
    "df = df[significant_features]"
   ]
  },
  {
   "cell_type": "code",
   "execution_count": null,
   "metadata": {},
   "outputs": [
    {
     "data": {
      "text/html": [
       "<div>\n",
       "<style scoped>\n",
       "    .dataframe tbody tr th:only-of-type {\n",
       "        vertical-align: middle;\n",
       "    }\n",
       "\n",
       "    .dataframe tbody tr th {\n",
       "        vertical-align: top;\n",
       "    }\n",
       "\n",
       "    .dataframe thead th {\n",
       "        text-align: right;\n",
       "    }\n",
       "</style>\n",
       "<table border=\"1\" class=\"dataframe\">\n",
       "  <thead>\n",
       "    <tr style=\"text-align: right;\">\n",
       "      <th></th>\n",
       "      <th>JobInvolvement</th>\n",
       "      <th>JobLevel</th>\n",
       "      <th>StockOptionLevel</th>\n",
       "      <th>JobRole</th>\n",
       "      <th>MaritalStatus</th>\n",
       "      <th>OverTime</th>\n",
       "      <th>DistanceFromHome</th>\n",
       "      <th>HourlyRate</th>\n",
       "      <th>MonthlyRate</th>\n",
       "      <th>NumCompaniesWorked</th>\n",
       "      <th>PercentSalaryHike</th>\n",
       "      <th>TrainingTimesLastYear</th>\n",
       "      <th>YearsSinceLastPromotion</th>\n",
       "      <th>Attrition</th>\n",
       "    </tr>\n",
       "  </thead>\n",
       "  <tbody>\n",
       "    <tr>\n",
       "      <th>0</th>\n",
       "      <td>3</td>\n",
       "      <td>2</td>\n",
       "      <td>0</td>\n",
       "      <td>Sales Executive</td>\n",
       "      <td>Single</td>\n",
       "      <td>Yes</td>\n",
       "      <td>1</td>\n",
       "      <td>94</td>\n",
       "      <td>19479</td>\n",
       "      <td>8</td>\n",
       "      <td>11</td>\n",
       "      <td>0</td>\n",
       "      <td>0</td>\n",
       "      <td>Yes</td>\n",
       "    </tr>\n",
       "    <tr>\n",
       "      <th>1</th>\n",
       "      <td>2</td>\n",
       "      <td>2</td>\n",
       "      <td>1</td>\n",
       "      <td>Research Scientist</td>\n",
       "      <td>Married</td>\n",
       "      <td>No</td>\n",
       "      <td>8</td>\n",
       "      <td>61</td>\n",
       "      <td>24907</td>\n",
       "      <td>1</td>\n",
       "      <td>23</td>\n",
       "      <td>3</td>\n",
       "      <td>1</td>\n",
       "      <td>No</td>\n",
       "    </tr>\n",
       "    <tr>\n",
       "      <th>2</th>\n",
       "      <td>2</td>\n",
       "      <td>1</td>\n",
       "      <td>0</td>\n",
       "      <td>Laboratory Technician</td>\n",
       "      <td>Single</td>\n",
       "      <td>Yes</td>\n",
       "      <td>2</td>\n",
       "      <td>92</td>\n",
       "      <td>2396</td>\n",
       "      <td>6</td>\n",
       "      <td>15</td>\n",
       "      <td>3</td>\n",
       "      <td>0</td>\n",
       "      <td>Yes</td>\n",
       "    </tr>\n",
       "    <tr>\n",
       "      <th>3</th>\n",
       "      <td>3</td>\n",
       "      <td>1</td>\n",
       "      <td>0</td>\n",
       "      <td>Research Scientist</td>\n",
       "      <td>Married</td>\n",
       "      <td>Yes</td>\n",
       "      <td>3</td>\n",
       "      <td>56</td>\n",
       "      <td>23159</td>\n",
       "      <td>1</td>\n",
       "      <td>11</td>\n",
       "      <td>3</td>\n",
       "      <td>3</td>\n",
       "      <td>No</td>\n",
       "    </tr>\n",
       "    <tr>\n",
       "      <th>4</th>\n",
       "      <td>3</td>\n",
       "      <td>1</td>\n",
       "      <td>1</td>\n",
       "      <td>Laboratory Technician</td>\n",
       "      <td>Married</td>\n",
       "      <td>No</td>\n",
       "      <td>2</td>\n",
       "      <td>40</td>\n",
       "      <td>16632</td>\n",
       "      <td>9</td>\n",
       "      <td>12</td>\n",
       "      <td>3</td>\n",
       "      <td>2</td>\n",
       "      <td>No</td>\n",
       "    </tr>\n",
       "  </tbody>\n",
       "</table>\n",
       "</div>"
      ],
      "text/plain": [
       "   JobInvolvement  JobLevel  StockOptionLevel                JobRole  \\\n",
       "0               3         2                 0        Sales Executive   \n",
       "1               2         2                 1     Research Scientist   \n",
       "2               2         1                 0  Laboratory Technician   \n",
       "3               3         1                 0     Research Scientist   \n",
       "4               3         1                 1  Laboratory Technician   \n",
       "\n",
       "  MaritalStatus OverTime  DistanceFromHome  HourlyRate  MonthlyRate  \\\n",
       "0        Single      Yes                 1          94        19479   \n",
       "1       Married       No                 8          61        24907   \n",
       "2        Single      Yes                 2          92         2396   \n",
       "3       Married      Yes                 3          56        23159   \n",
       "4       Married       No                 2          40        16632   \n",
       "\n",
       "   NumCompaniesWorked  PercentSalaryHike  TrainingTimesLastYear  \\\n",
       "0                   8                 11                      0   \n",
       "1                   1                 23                      3   \n",
       "2                   6                 15                      3   \n",
       "3                   1                 11                      3   \n",
       "4                   9                 12                      3   \n",
       "\n",
       "   YearsSinceLastPromotion Attrition  \n",
       "0                        0       Yes  \n",
       "1                        1        No  \n",
       "2                        0       Yes  \n",
       "3                        3        No  \n",
       "4                        2        No  "
      ]
     },
     "execution_count": 16,
     "metadata": {},
     "output_type": "execute_result"
    }
   ],
   "source": [
    " df.head()"
   ]
  },
  {
   "cell_type": "code",
   "execution_count": 82,
   "metadata": {},
   "outputs": [],
   "source": [
    "from imblearn.pipeline import Pipeline\n",
    "from sklearn.compose import ColumnTransformer\n",
    "from imblearn.over_sampling import SMOTE\n",
    "from sklearn.linear_model import LogisticRegression"
   ]
  },
  {
   "cell_type": "code",
   "execution_count": 46,
   "metadata": {},
   "outputs": [],
   "source": [
    "X_train,X_test,y_train,y_test = train_test_split(df.drop('Attrition',axis=1),df['Attrition'],test_size=0.2)"
   ]
  },
  {
   "cell_type": "code",
   "execution_count": 43,
   "metadata": {},
   "outputs": [],
   "source": [
    "ColumnTransformerStep = ColumnTransformer([\n",
    "    ('MinMaxScaler',MinMaxScaler(),sacle_features),\n",
    "    ('OneHotEncoder',OneHotEncoder(),ohe_features)\n",
    "])"
   ]
  },
  {
   "cell_type": "code",
   "execution_count": 49,
   "metadata": {},
   "outputs": [],
   "source": [
    "y_train_transformed = LabelEncoder().fit_transform(y_train)"
   ]
  },
  {
   "cell_type": "code",
   "execution_count": 89,
   "metadata": {},
   "outputs": [],
   "source": [
    "pipe = Pipeline([('cl',ColumnTransformerStep),('smt',SMOTE())])"
   ]
  },
  {
   "cell_type": "code",
   "execution_count": 92,
   "metadata": {},
   "outputs": [
    {
     "data": {
      "text/plain": [
       "<bound method Pipeline.get_feature_names_out of Pipeline(steps=[('cl',\n",
       "                 ColumnTransformer(transformers=[('MinMaxScaler',\n",
       "                                                  MinMaxScaler(),\n",
       "                                                  ['HourlyRate', 'MonthlyRate',\n",
       "                                                   'PercentSalaryHike',\n",
       "                                                   'TrainingTimesLastYear',\n",
       "                                                   'YearsSinceLastPromotion',\n",
       "                                                   'JobInvolvement', 'JobLevel',\n",
       "                                                   'StockOptionLevel',\n",
       "                                                   'DistanceFromHome',\n",
       "                                                   'NumCompaniesWorked']),\n",
       "                                                 ('OneHotEncoder',\n",
       "                                                  OneHotEncoder(),\n",
       "                                                  ['OverTime', 'MaritalStatus',\n",
       "                                                   'JobRole'])])),\n",
       "                ('smt', SMOTE())])>"
      ]
     },
     "execution_count": 92,
     "metadata": {},
     "output_type": "execute_result"
    }
   ],
   "source": [
    "pipe.get_feature_names_out"
   ]
  },
  {
   "cell_type": "code",
   "execution_count": null,
   "metadata": {},
   "outputs": [],
   "source": [
    "X_train_res,y_train_res = pipe.fit_resample(train,y_train_transformed)"
   ]
  },
  {
   "cell_type": "code",
   "execution_count": 96,
   "metadata": {},
   "outputs": [
    {
     "data": {
      "text/plain": [
       "array([[0],\n",
       "       [0],\n",
       "       [1],\n",
       "       ...,\n",
       "       [1],\n",
       "       [1],\n",
       "       [1]])"
      ]
     },
     "execution_count": 96,
     "metadata": {},
     "output_type": "execute_result"
    }
   ],
   "source": [
    "y_train_res.reshape(-1,1)"
   ]
  },
  {
   "cell_type": "code",
   "execution_count": 93,
   "metadata": {},
   "outputs": [
    {
     "data": {
      "text/plain": [
       "(1960, 24)"
      ]
     },
     "execution_count": 93,
     "metadata": {},
     "output_type": "execute_result"
    }
   ],
   "source": [
    "X_train_res.shape"
   ]
  }
 ],
 "metadata": {
  "kernelspec": {
   "display_name": "venv",
   "language": "python",
   "name": "python3"
  },
  "language_info": {
   "codemirror_mode": {
    "name": "ipython",
    "version": 3
   },
   "file_extension": ".py",
   "mimetype": "text/x-python",
   "name": "python",
   "nbconvert_exporter": "python",
   "pygments_lexer": "ipython3",
   "version": "3.11.5"
  }
 },
 "nbformat": 4,
 "nbformat_minor": 2
}
